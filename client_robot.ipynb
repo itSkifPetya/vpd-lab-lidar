{
 "cells": [
  {
   "cell_type": "code",
   "execution_count": null,
   "id": "878659bb",
   "metadata": {},
   "outputs": [
    {
     "data": {
      "text/plain": [
       "<Figure size 640x480 with 0 Axes>"
      ]
     },
     "metadata": {},
     "output_type": "display_data"
    }
   ],
   "source": [
    "import socket\n",
    "import pickle\n",
    "import matplotlib.pyplot as plt\n",
    "from IPython.display import clear_output, display\n",
    "\n",
    "plt.ion()\n",
    "fig = plt.figure(1)\n",
    "ax = fig.add_subplot(111)\n",
    "\n",
    "HOST = \"localhost\"\n",
    "PORT = 65432\n",
    "\n",
    "pos = []\n",
    "\n",
    "with socket.socket(socket.AF_INET, socket.SOCK_STREAM) as s:\n",
    "    s.connect((HOST, PORT))\n",
    "    while True:\n",
    "        data = s.recv(4096)\n",
    "        if data == b'': continue\n",
    "        (x, y) = pickle.loads(data)\n",
    "        # print(x, y)\n",
    "        pos.append((x, y))\n",
    "        ax.clear()\n",
    "        ax.set_xlim([-1, 1])\n",
    "        ax.set_ylim([-1, 1])\n",
    "        ax.grid(True)\n",
    "        xs, ys = zip(*pos)\n",
    "        # print(xs, ys)\n",
    "        ax.plot(xs, ys, marker='o')\n",
    "        display(plt.gcf())\n",
    "        clear_output(wait=True)\n",
    "        plt.draw()\n",
    "        plt.pause(0.01)\n",
    "\n",
    "plt.show()"
   ]
  }
 ],
 "metadata": {
  "kernelspec": {
   "display_name": "Python 3",
   "language": "python",
   "name": "python3"
  },
  "language_info": {
   "codemirror_mode": {
    "name": "ipython",
    "version": 3
   },
   "file_extension": ".py",
   "mimetype": "text/x-python",
   "name": "python",
   "nbconvert_exporter": "python",
   "pygments_lexer": "ipython3",
   "version": "3.13.3"
  }
 },
 "nbformat": 4,
 "nbformat_minor": 5
}
